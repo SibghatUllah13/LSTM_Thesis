{
 "cells": [
  {
   "cell_type": "code",
   "execution_count": 1,
   "metadata": {},
   "outputs": [],
   "source": [
    "import Utils\n",
    "import Optimizer as opt\n",
    "import NeuralNetworks as Net\n",
    "import torch \n",
    "import torch.nn as nn\n",
    "import torchvision\n",
    "import torchvision.transforms as transforms\n",
    "import os\n",
    "import numpy as np\n",
    "import autograd.numpy as anp\n",
    "import matplotlib.pyplot as plt\n",
    "import pandas as pd"
   ]
  },
  {
   "cell_type": "code",
   "execution_count": 7,
   "metadata": {},
   "outputs": [],
   "source": [
    "'''Initialize the Hyper Parameters and Data Set'''\n",
    "device,sequence_length,input_size,hidden_size,num_layers,num_classes,batch_size = Utils.init_hyper_param()\n",
    "train = torchvision.datasets.MNIST(root=\"C://Users//conne//Master Thesis\",train=True, transform=transforms.ToTensor())\n",
    "iters=300\n",
    "SS = [0.01,0.1,0.2,0.45, 0.7]\n",
    "C = 0.1\n",
    "SSE = 0.01\n",
    "rho_eps = 0.01\n",
    "rho = 0.99\n",
    "tau = 0.2\n",
    "loss_history = torch.zeros(len(SS),iters)"
   ]
  },
  {
   "cell_type": "code",
   "execution_count": null,
   "metadata": {},
   "outputs": [
    {
     "name": "stdout",
     "output_type": "stream",
     "text": [
      "Executing run  1 ...\n",
      "Executing run  2 ...\n",
      "Executing run  3 ...\n"
     ]
    }
   ],
   "source": [
    "for i in range(len(SS)):\n",
    "    \n",
    "    print('Executing run ',i+1 , '...')\n",
    "    \n",
    "    #Initialize the Neural Network to the Same Point with normal distribution\n",
    "    lstm_model,parameters = Net.random_initialization_neural_networks(input_size,hidden_size,num_layers,num_classes,device)\n",
    "    \n",
    "    #Apply SCA Ridge and Optimize the model\n",
    "    final_lstm,err_lstm,grad_lstm = opt.sca_ridge(lstm_model,parameters,train,batch_size,sequence_length,input_size,max_it=iters,\n",
    "                                                  step_size=SS[i],C=C,tau=tau,rho_eps=rho_eps,step_size_eps=SSE)\n",
    "    #Save the Error \n",
    "    loss_history[i,:] = torch.from_numpy(err_lstm.reshape(1,err_lstm.shape[0]))\n",
    "    \n",
    "loss_history = loss_history.detach().numpy()\n",
    "pd.DataFrame(loss_history).to_csv('SS.csv')\n",
    "plt.figure()\n",
    "plt.clf()\n",
    "plt.xlabel('Iteration')\n",
    "plt.ylabel('Objective function')\n",
    "#plt.yscale('log')\n",
    "plt.title('Objective function')\n",
    "plt.plot(range(iters), pd.ewma(loss_history[0,:], halflife=10), label='SS=0.01')\n",
    "plt.plot(range(iters), pd.ewma(loss_history[1,:], halflife=10), label='SS=0.1')\n",
    "plt.plot(range(iters), pd.ewma(loss_history[2,:], halflife=10), label='SS=0.2')\n",
    "plt.plot(range(iters), pd.ewma(loss_history[3,:], halflife=10), label='SS=0.45')\n",
    "plt.plot(range(iters), pd.ewma(loss_history[4,:], halflife=10), label='SS=0.70')\n",
    "plt.legend(loc='upper right')\n",
    "plt.grid()"
   ]
  },
  {
   "cell_type": "code",
   "execution_count": null,
   "metadata": {},
   "outputs": [],
   "source": [
    "#4,33"
   ]
  },
  {
   "cell_type": "code",
   "execution_count": null,
   "metadata": {},
   "outputs": [],
   "source": []
  },
  {
   "cell_type": "code",
   "execution_count": null,
   "metadata": {},
   "outputs": [],
   "source": []
  }
 ],
 "metadata": {
  "kernelspec": {
   "display_name": "Python 3",
   "language": "python",
   "name": "python3"
  },
  "language_info": {
   "codemirror_mode": {
    "name": "ipython",
    "version": 3
   },
   "file_extension": ".py",
   "mimetype": "text/x-python",
   "name": "python",
   "nbconvert_exporter": "python",
   "pygments_lexer": "ipython3",
   "version": "3.6.4"
  }
 },
 "nbformat": 4,
 "nbformat_minor": 2
}
